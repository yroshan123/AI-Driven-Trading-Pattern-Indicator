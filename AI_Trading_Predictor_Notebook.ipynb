{
 "cells": [
  {
   "cell_type": "markdown",
   "id": "3a1f41c4",
   "metadata": {},
   "source": [
    "# 📈 AI-Driven Trading Pattern Predictor"
   ]
  },
  {
   "cell_type": "code",
   "execution_count": null,
   "id": "95bdb4e6",
   "metadata": {},
   "outputs": [],
   "source": [
    "\n",
    "import numpy as np\n",
    "import pandas as pd\n",
    "from sklearn.model_selection import train_test_split\n",
    "from sklearn.preprocessing import StandardScaler\n",
    "from sklearn.svm import SVC\n",
    "from sklearn.metrics import classification_report, accuracy_score\n",
    "from xgboost import XGBClassifier\n",
    "from sklearn.ensemble import VotingClassifier\n"
   ]
  },
  {
   "cell_type": "code",
   "execution_count": null,
   "id": "1fb2601e",
   "metadata": {},
   "outputs": [],
   "source": [
    "\n",
    "def generate_synthetic_data(samples=5000):\n",
    "    np.random.seed(42)\n",
    "    data = pd.DataFrame({\n",
    "        \"SMA_10\": np.random.randn(samples) * 10 + 50,\n",
    "        \"SMA_50\": np.random.randn(samples) * 10 + 52,\n",
    "        \"RSI\": np.random.rand(samples) * 100,\n",
    "        \"MACD\": np.random.randn(samples),\n",
    "        \"Volume\": np.random.randint(1e5, 1e6, size=samples),\n",
    "        \"Volatility\": np.abs(np.random.randn(samples)),\n",
    "        \"Price_Change_%\": np.random.randn(samples) * 2\n",
    "    })\n",
    "\n",
    "    def label_row(row):\n",
    "        if row[\"Price_Change_%\"] > 1:\n",
    "            return \"Buy\"\n",
    "        elif row[\"Price_Change_%\"] < -1:\n",
    "            return \"Sell\"\n",
    "        else:\n",
    "            return \"Hold\"\n",
    "\n",
    "    data[\"Signal\"] = data.apply(label_row, axis=1)\n",
    "    return data\n",
    "\n",
    "df = generate_synthetic_data()\n",
    "df.head()\n"
   ]
  },
  {
   "cell_type": "code",
   "execution_count": null,
   "id": "c00a543c",
   "metadata": {},
   "outputs": [],
   "source": [
    "\n",
    "X = df.drop(\"Signal\", axis=1)\n",
    "y = df[\"Signal\"].map({\"Buy\": 0, \"Hold\": 1, \"Sell\": 2})\n",
    "\n",
    "X_train, X_test, y_train, y_test = train_test_split(X, y, test_size=0.2, random_state=42)\n",
    "\n",
    "scaler = StandardScaler()\n",
    "X_train_scaled = scaler.fit_transform(X_train)\n",
    "X_test_scaled = scaler.transform(X_test)\n"
   ]
  },
  {
   "cell_type": "code",
   "execution_count": null,
   "id": "73cf766b",
   "metadata": {},
   "outputs": [],
   "source": [
    "\n",
    "xgb = XGBClassifier(use_label_encoder=False, eval_metric='mlogloss', random_state=42, n_estimators=50, max_depth=3)\n",
    "svm = SVC(kernel='linear', probability=True, random_state=42)\n",
    "\n",
    "ensemble = VotingClassifier(estimators=[\n",
    "    ('xgb', xgb),\n",
    "    ('svm', svm)\n",
    "], voting='soft')\n",
    "\n",
    "ensemble.fit(X_train_scaled, y_train)\n"
   ]
  },
  {
   "cell_type": "code",
   "execution_count": null,
   "id": "0186ec94",
   "metadata": {},
   "outputs": [],
   "source": [
    "\n",
    "y_pred = ensemble.predict(X_test_scaled)\n",
    "print(\"Accuracy:\", accuracy_score(y_test, y_pred))\n",
    "print(classification_report(y_test, y_pred, target_names=[\"Buy\", \"Hold\", \"Sell\"]))\n"
   ]
  },
  {
   "cell_type": "code",
   "execution_count": null,
   "id": "dc7f6ab8",
   "metadata": {},
   "outputs": [],
   "source": [
    "\n",
    "df_test = X_test.copy()\n",
    "df_test[\"Actual\"] = y_test.map({0: \"Buy\", 1: \"Hold\", 2: \"Sell\"}).values\n",
    "df_test[\"Predicted\"] = pd.Series(y_pred).map({0: \"Buy\", 1: \"Hold\", 2: \"Sell\"}).values\n",
    "df_test.to_csv(\"predictions_for_power_bi.csv\", index=False)\n",
    "df_test.head()\n"
   ]
  }
 ],
 "metadata": {},
 "nbformat": 4,
 "nbformat_minor": 5
}